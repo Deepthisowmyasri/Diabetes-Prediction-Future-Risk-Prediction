{
  "nbformat": 4,
  "nbformat_minor": 0,
  "metadata": {
    "colab": {
      "provenance": []
    },
    "kernelspec": {
      "name": "python3",
      "display_name": "Python 3"
    },
    "language_info": {
      "name": "python"
    },
    "widgets": {
      "application/vnd.jupyter.widget-state+json": {
        "65321f92059940a880349097314b1b6e": {
          "model_module": "@jupyter-widgets/controls",
          "model_name": "FloatTextModel",
          "model_module_version": "1.5.0",
          "state": {
            "_dom_classes": [],
            "_model_module": "@jupyter-widgets/controls",
            "_model_module_version": "1.5.0",
            "_model_name": "FloatTextModel",
            "_view_count": null,
            "_view_module": "@jupyter-widgets/controls",
            "_view_module_version": "1.5.0",
            "_view_name": "FloatTextView",
            "continuous_update": false,
            "description": "Glucose",
            "description_tooltip": null,
            "disabled": false,
            "layout": "IPY_MODEL_df1f07f0117f4765adab021abd395c93",
            "step": null,
            "style": "IPY_MODEL_4653c0c58ab64eff855236c962363621",
            "value": 110
          }
        },
        "df1f07f0117f4765adab021abd395c93": {
          "model_module": "@jupyter-widgets/base",
          "model_name": "LayoutModel",
          "model_module_version": "1.2.0",
          "state": {
            "_model_module": "@jupyter-widgets/base",
            "_model_module_version": "1.2.0",
            "_model_name": "LayoutModel",
            "_view_count": null,
            "_view_module": "@jupyter-widgets/base",
            "_view_module_version": "1.2.0",
            "_view_name": "LayoutView",
            "align_content": null,
            "align_items": null,
            "align_self": null,
            "border": null,
            "bottom": null,
            "display": null,
            "flex": null,
            "flex_flow": null,
            "grid_area": null,
            "grid_auto_columns": null,
            "grid_auto_flow": null,
            "grid_auto_rows": null,
            "grid_column": null,
            "grid_gap": null,
            "grid_row": null,
            "grid_template_areas": null,
            "grid_template_columns": null,
            "grid_template_rows": null,
            "height": null,
            "justify_content": null,
            "justify_items": null,
            "left": null,
            "margin": null,
            "max_height": null,
            "max_width": null,
            "min_height": null,
            "min_width": null,
            "object_fit": null,
            "object_position": null,
            "order": null,
            "overflow": null,
            "overflow_x": null,
            "overflow_y": null,
            "padding": null,
            "right": null,
            "top": null,
            "visibility": null,
            "width": null
          }
        },
        "4653c0c58ab64eff855236c962363621": {
          "model_module": "@jupyter-widgets/controls",
          "model_name": "DescriptionStyleModel",
          "model_module_version": "1.5.0",
          "state": {
            "_model_module": "@jupyter-widgets/controls",
            "_model_module_version": "1.5.0",
            "_model_name": "DescriptionStyleModel",
            "_view_count": null,
            "_view_module": "@jupyter-widgets/base",
            "_view_module_version": "1.2.0",
            "_view_name": "StyleView",
            "description_width": ""
          }
        },
        "a7046b9c96554775be22924f8136e9df": {
          "model_module": "@jupyter-widgets/controls",
          "model_name": "FloatTextModel",
          "model_module_version": "1.5.0",
          "state": {
            "_dom_classes": [],
            "_model_module": "@jupyter-widgets/controls",
            "_model_module_version": "1.5.0",
            "_model_name": "FloatTextModel",
            "_view_count": null,
            "_view_module": "@jupyter-widgets/controls",
            "_view_module_version": "1.5.0",
            "_view_name": "FloatTextView",
            "continuous_update": false,
            "description": "Blood Pressure",
            "description_tooltip": null,
            "disabled": false,
            "layout": "IPY_MODEL_201a8f6138d2470eba3db5168fe654fe",
            "step": null,
            "style": "IPY_MODEL_a3f1d0d889bf4f98899c4f9f95860a63",
            "value": 92
          }
        },
        "201a8f6138d2470eba3db5168fe654fe": {
          "model_module": "@jupyter-widgets/base",
          "model_name": "LayoutModel",
          "model_module_version": "1.2.0",
          "state": {
            "_model_module": "@jupyter-widgets/base",
            "_model_module_version": "1.2.0",
            "_model_name": "LayoutModel",
            "_view_count": null,
            "_view_module": "@jupyter-widgets/base",
            "_view_module_version": "1.2.0",
            "_view_name": "LayoutView",
            "align_content": null,
            "align_items": null,
            "align_self": null,
            "border": null,
            "bottom": null,
            "display": null,
            "flex": null,
            "flex_flow": null,
            "grid_area": null,
            "grid_auto_columns": null,
            "grid_auto_flow": null,
            "grid_auto_rows": null,
            "grid_column": null,
            "grid_gap": null,
            "grid_row": null,
            "grid_template_areas": null,
            "grid_template_columns": null,
            "grid_template_rows": null,
            "height": null,
            "justify_content": null,
            "justify_items": null,
            "left": null,
            "margin": null,
            "max_height": null,
            "max_width": null,
            "min_height": null,
            "min_width": null,
            "object_fit": null,
            "object_position": null,
            "order": null,
            "overflow": null,
            "overflow_x": null,
            "overflow_y": null,
            "padding": null,
            "right": null,
            "top": null,
            "visibility": null,
            "width": null
          }
        },
        "a3f1d0d889bf4f98899c4f9f95860a63": {
          "model_module": "@jupyter-widgets/controls",
          "model_name": "DescriptionStyleModel",
          "model_module_version": "1.5.0",
          "state": {
            "_model_module": "@jupyter-widgets/controls",
            "_model_module_version": "1.5.0",
            "_model_name": "DescriptionStyleModel",
            "_view_count": null,
            "_view_module": "@jupyter-widgets/base",
            "_view_module_version": "1.2.0",
            "_view_name": "StyleView",
            "description_width": ""
          }
        },
        "836f1688038840e78a2976753d064248": {
          "model_module": "@jupyter-widgets/controls",
          "model_name": "FloatTextModel",
          "model_module_version": "1.5.0",
          "state": {
            "_dom_classes": [],
            "_model_module": "@jupyter-widgets/controls",
            "_model_module_version": "1.5.0",
            "_model_name": "FloatTextModel",
            "_view_count": null,
            "_view_module": "@jupyter-widgets/controls",
            "_view_module_version": "1.5.0",
            "_view_name": "FloatTextView",
            "continuous_update": false,
            "description": "Skin Thickness",
            "description_tooltip": null,
            "disabled": false,
            "layout": "IPY_MODEL_24962b9443b74535989cf285a4a3204c",
            "step": null,
            "style": "IPY_MODEL_1a46304846ac445ca0e3f4bb67753512",
            "value": 0
          }
        },
        "24962b9443b74535989cf285a4a3204c": {
          "model_module": "@jupyter-widgets/base",
          "model_name": "LayoutModel",
          "model_module_version": "1.2.0",
          "state": {
            "_model_module": "@jupyter-widgets/base",
            "_model_module_version": "1.2.0",
            "_model_name": "LayoutModel",
            "_view_count": null,
            "_view_module": "@jupyter-widgets/base",
            "_view_module_version": "1.2.0",
            "_view_name": "LayoutView",
            "align_content": null,
            "align_items": null,
            "align_self": null,
            "border": null,
            "bottom": null,
            "display": null,
            "flex": null,
            "flex_flow": null,
            "grid_area": null,
            "grid_auto_columns": null,
            "grid_auto_flow": null,
            "grid_auto_rows": null,
            "grid_column": null,
            "grid_gap": null,
            "grid_row": null,
            "grid_template_areas": null,
            "grid_template_columns": null,
            "grid_template_rows": null,
            "height": null,
            "justify_content": null,
            "justify_items": null,
            "left": null,
            "margin": null,
            "max_height": null,
            "max_width": null,
            "min_height": null,
            "min_width": null,
            "object_fit": null,
            "object_position": null,
            "order": null,
            "overflow": null,
            "overflow_x": null,
            "overflow_y": null,
            "padding": null,
            "right": null,
            "top": null,
            "visibility": null,
            "width": null
          }
        },
        "1a46304846ac445ca0e3f4bb67753512": {
          "model_module": "@jupyter-widgets/controls",
          "model_name": "DescriptionStyleModel",
          "model_module_version": "1.5.0",
          "state": {
            "_model_module": "@jupyter-widgets/controls",
            "_model_module_version": "1.5.0",
            "_model_name": "DescriptionStyleModel",
            "_view_count": null,
            "_view_module": "@jupyter-widgets/base",
            "_view_module_version": "1.2.0",
            "_view_name": "StyleView",
            "description_width": ""
          }
        },
        "58f93472385a436c919c4c25b802507f": {
          "model_module": "@jupyter-widgets/controls",
          "model_name": "FloatTextModel",
          "model_module_version": "1.5.0",
          "state": {
            "_dom_classes": [],
            "_model_module": "@jupyter-widgets/controls",
            "_model_module_version": "1.5.0",
            "_model_name": "FloatTextModel",
            "_view_count": null,
            "_view_module": "@jupyter-widgets/controls",
            "_view_module_version": "1.5.0",
            "_view_name": "FloatTextView",
            "continuous_update": false,
            "description": "Insulin",
            "description_tooltip": null,
            "disabled": false,
            "layout": "IPY_MODEL_6bb9f05ed95349f39f9fd29a1a30a379",
            "step": null,
            "style": "IPY_MODEL_730fc39bf0cf471caf73acf9eee09f09",
            "value": 0
          }
        },
        "6bb9f05ed95349f39f9fd29a1a30a379": {
          "model_module": "@jupyter-widgets/base",
          "model_name": "LayoutModel",
          "model_module_version": "1.2.0",
          "state": {
            "_model_module": "@jupyter-widgets/base",
            "_model_module_version": "1.2.0",
            "_model_name": "LayoutModel",
            "_view_count": null,
            "_view_module": "@jupyter-widgets/base",
            "_view_module_version": "1.2.0",
            "_view_name": "LayoutView",
            "align_content": null,
            "align_items": null,
            "align_self": null,
            "border": null,
            "bottom": null,
            "display": null,
            "flex": null,
            "flex_flow": null,
            "grid_area": null,
            "grid_auto_columns": null,
            "grid_auto_flow": null,
            "grid_auto_rows": null,
            "grid_column": null,
            "grid_gap": null,
            "grid_row": null,
            "grid_template_areas": null,
            "grid_template_columns": null,
            "grid_template_rows": null,
            "height": null,
            "justify_content": null,
            "justify_items": null,
            "left": null,
            "margin": null,
            "max_height": null,
            "max_width": null,
            "min_height": null,
            "min_width": null,
            "object_fit": null,
            "object_position": null,
            "order": null,
            "overflow": null,
            "overflow_x": null,
            "overflow_y": null,
            "padding": null,
            "right": null,
            "top": null,
            "visibility": null,
            "width": null
          }
        },
        "730fc39bf0cf471caf73acf9eee09f09": {
          "model_module": "@jupyter-widgets/controls",
          "model_name": "DescriptionStyleModel",
          "model_module_version": "1.5.0",
          "state": {
            "_model_module": "@jupyter-widgets/controls",
            "_model_module_version": "1.5.0",
            "_model_name": "DescriptionStyleModel",
            "_view_count": null,
            "_view_module": "@jupyter-widgets/base",
            "_view_module_version": "1.2.0",
            "_view_name": "StyleView",
            "description_width": ""
          }
        },
        "302f0af4c2f34887aae517971d6c9546": {
          "model_module": "@jupyter-widgets/controls",
          "model_name": "FloatTextModel",
          "model_module_version": "1.5.0",
          "state": {
            "_dom_classes": [],
            "_model_module": "@jupyter-widgets/controls",
            "_model_module_version": "1.5.0",
            "_model_name": "FloatTextModel",
            "_view_count": null,
            "_view_module": "@jupyter-widgets/controls",
            "_view_module_version": "1.5.0",
            "_view_name": "FloatTextView",
            "continuous_update": false,
            "description": "BMI",
            "description_tooltip": null,
            "disabled": false,
            "layout": "IPY_MODEL_78f0a5a5d6b5427abaf19193f9bb00d9",
            "step": null,
            "style": "IPY_MODEL_1e24f0df5280490d85a3928c96ac4bdc",
            "value": 37.6
          }
        },
        "78f0a5a5d6b5427abaf19193f9bb00d9": {
          "model_module": "@jupyter-widgets/base",
          "model_name": "LayoutModel",
          "model_module_version": "1.2.0",
          "state": {
            "_model_module": "@jupyter-widgets/base",
            "_model_module_version": "1.2.0",
            "_model_name": "LayoutModel",
            "_view_count": null,
            "_view_module": "@jupyter-widgets/base",
            "_view_module_version": "1.2.0",
            "_view_name": "LayoutView",
            "align_content": null,
            "align_items": null,
            "align_self": null,
            "border": null,
            "bottom": null,
            "display": null,
            "flex": null,
            "flex_flow": null,
            "grid_area": null,
            "grid_auto_columns": null,
            "grid_auto_flow": null,
            "grid_auto_rows": null,
            "grid_column": null,
            "grid_gap": null,
            "grid_row": null,
            "grid_template_areas": null,
            "grid_template_columns": null,
            "grid_template_rows": null,
            "height": null,
            "justify_content": null,
            "justify_items": null,
            "left": null,
            "margin": null,
            "max_height": null,
            "max_width": null,
            "min_height": null,
            "min_width": null,
            "object_fit": null,
            "object_position": null,
            "order": null,
            "overflow": null,
            "overflow_x": null,
            "overflow_y": null,
            "padding": null,
            "right": null,
            "top": null,
            "visibility": null,
            "width": null
          }
        },
        "1e24f0df5280490d85a3928c96ac4bdc": {
          "model_module": "@jupyter-widgets/controls",
          "model_name": "DescriptionStyleModel",
          "model_module_version": "1.5.0",
          "state": {
            "_model_module": "@jupyter-widgets/controls",
            "_model_module_version": "1.5.0",
            "_model_name": "DescriptionStyleModel",
            "_view_count": null,
            "_view_module": "@jupyter-widgets/base",
            "_view_module_version": "1.2.0",
            "_view_name": "StyleView",
            "description_width": ""
          }
        },
        "d21232c85fa4453490dc39fe1f9dd4a8": {
          "model_module": "@jupyter-widgets/controls",
          "model_name": "FloatTextModel",
          "model_module_version": "1.5.0",
          "state": {
            "_dom_classes": [],
            "_model_module": "@jupyter-widgets/controls",
            "_model_module_version": "1.5.0",
            "_model_name": "FloatTextModel",
            "_view_count": null,
            "_view_module": "@jupyter-widgets/controls",
            "_view_module_version": "1.5.0",
            "_view_name": "FloatTextView",
            "continuous_update": false,
            "description": "Diabetes Pedigree",
            "description_tooltip": null,
            "disabled": false,
            "layout": "IPY_MODEL_3af3e13d0f8e47e9b8b8b1954d8fb23c",
            "step": null,
            "style": "IPY_MODEL_730ebf7809014205a527ca99a0ada2df",
            "value": 0.193
          }
        },
        "3af3e13d0f8e47e9b8b8b1954d8fb23c": {
          "model_module": "@jupyter-widgets/base",
          "model_name": "LayoutModel",
          "model_module_version": "1.2.0",
          "state": {
            "_model_module": "@jupyter-widgets/base",
            "_model_module_version": "1.2.0",
            "_model_name": "LayoutModel",
            "_view_count": null,
            "_view_module": "@jupyter-widgets/base",
            "_view_module_version": "1.2.0",
            "_view_name": "LayoutView",
            "align_content": null,
            "align_items": null,
            "align_self": null,
            "border": null,
            "bottom": null,
            "display": null,
            "flex": null,
            "flex_flow": null,
            "grid_area": null,
            "grid_auto_columns": null,
            "grid_auto_flow": null,
            "grid_auto_rows": null,
            "grid_column": null,
            "grid_gap": null,
            "grid_row": null,
            "grid_template_areas": null,
            "grid_template_columns": null,
            "grid_template_rows": null,
            "height": null,
            "justify_content": null,
            "justify_items": null,
            "left": null,
            "margin": null,
            "max_height": null,
            "max_width": null,
            "min_height": null,
            "min_width": null,
            "object_fit": null,
            "object_position": null,
            "order": null,
            "overflow": null,
            "overflow_x": null,
            "overflow_y": null,
            "padding": null,
            "right": null,
            "top": null,
            "visibility": null,
            "width": null
          }
        },
        "730ebf7809014205a527ca99a0ada2df": {
          "model_module": "@jupyter-widgets/controls",
          "model_name": "DescriptionStyleModel",
          "model_module_version": "1.5.0",
          "state": {
            "_model_module": "@jupyter-widgets/controls",
            "_model_module_version": "1.5.0",
            "_model_name": "DescriptionStyleModel",
            "_view_count": null,
            "_view_module": "@jupyter-widgets/base",
            "_view_module_version": "1.2.0",
            "_view_name": "StyleView",
            "description_width": ""
          }
        },
        "53d5c9d2786b4d38a806bca309d27945": {
          "model_module": "@jupyter-widgets/controls",
          "model_name": "IntTextModel",
          "model_module_version": "1.5.0",
          "state": {
            "_dom_classes": [],
            "_model_module": "@jupyter-widgets/controls",
            "_model_module_version": "1.5.0",
            "_model_name": "IntTextModel",
            "_view_count": null,
            "_view_module": "@jupyter-widgets/controls",
            "_view_module_version": "1.5.0",
            "_view_name": "IntTextView",
            "continuous_update": false,
            "description": "Age",
            "description_tooltip": null,
            "disabled": false,
            "layout": "IPY_MODEL_4769ff0ebadb4533b32e650472fba74f",
            "step": 1,
            "style": "IPY_MODEL_e0be8dd78a6a4bfca86c89f90aa9899b",
            "value": 30
          }
        },
        "4769ff0ebadb4533b32e650472fba74f": {
          "model_module": "@jupyter-widgets/base",
          "model_name": "LayoutModel",
          "model_module_version": "1.2.0",
          "state": {
            "_model_module": "@jupyter-widgets/base",
            "_model_module_version": "1.2.0",
            "_model_name": "LayoutModel",
            "_view_count": null,
            "_view_module": "@jupyter-widgets/base",
            "_view_module_version": "1.2.0",
            "_view_name": "LayoutView",
            "align_content": null,
            "align_items": null,
            "align_self": null,
            "border": null,
            "bottom": null,
            "display": null,
            "flex": null,
            "flex_flow": null,
            "grid_area": null,
            "grid_auto_columns": null,
            "grid_auto_flow": null,
            "grid_auto_rows": null,
            "grid_column": null,
            "grid_gap": null,
            "grid_row": null,
            "grid_template_areas": null,
            "grid_template_columns": null,
            "grid_template_rows": null,
            "height": null,
            "justify_content": null,
            "justify_items": null,
            "left": null,
            "margin": null,
            "max_height": null,
            "max_width": null,
            "min_height": null,
            "min_width": null,
            "object_fit": null,
            "object_position": null,
            "order": null,
            "overflow": null,
            "overflow_x": null,
            "overflow_y": null,
            "padding": null,
            "right": null,
            "top": null,
            "visibility": null,
            "width": null
          }
        },
        "e0be8dd78a6a4bfca86c89f90aa9899b": {
          "model_module": "@jupyter-widgets/controls",
          "model_name": "DescriptionStyleModel",
          "model_module_version": "1.5.0",
          "state": {
            "_model_module": "@jupyter-widgets/controls",
            "_model_module_version": "1.5.0",
            "_model_name": "DescriptionStyleModel",
            "_view_count": null,
            "_view_module": "@jupyter-widgets/base",
            "_view_module_version": "1.2.0",
            "_view_name": "StyleView",
            "description_width": ""
          }
        },
        "bd0c23017d0e4b50bcf35c7d7901646f": {
          "model_module": "@jupyter-widgets/controls",
          "model_name": "ButtonModel",
          "model_module_version": "1.5.0",
          "state": {
            "_dom_classes": [],
            "_model_module": "@jupyter-widgets/controls",
            "_model_module_version": "1.5.0",
            "_model_name": "ButtonModel",
            "_view_count": null,
            "_view_module": "@jupyter-widgets/controls",
            "_view_module_version": "1.5.0",
            "_view_name": "ButtonView",
            "button_style": "",
            "description": "Predict Diabetes",
            "disabled": false,
            "icon": "",
            "layout": "IPY_MODEL_1089894781c34db98b637ef3687dd918",
            "style": "IPY_MODEL_04b786c22495489aa07a800496f6ea5a",
            "tooltip": ""
          }
        },
        "1089894781c34db98b637ef3687dd918": {
          "model_module": "@jupyter-widgets/base",
          "model_name": "LayoutModel",
          "model_module_version": "1.2.0",
          "state": {
            "_model_module": "@jupyter-widgets/base",
            "_model_module_version": "1.2.0",
            "_model_name": "LayoutModel",
            "_view_count": null,
            "_view_module": "@jupyter-widgets/base",
            "_view_module_version": "1.2.0",
            "_view_name": "LayoutView",
            "align_content": null,
            "align_items": null,
            "align_self": null,
            "border": null,
            "bottom": null,
            "display": null,
            "flex": null,
            "flex_flow": null,
            "grid_area": null,
            "grid_auto_columns": null,
            "grid_auto_flow": null,
            "grid_auto_rows": null,
            "grid_column": null,
            "grid_gap": null,
            "grid_row": null,
            "grid_template_areas": null,
            "grid_template_columns": null,
            "grid_template_rows": null,
            "height": null,
            "justify_content": null,
            "justify_items": null,
            "left": null,
            "margin": null,
            "max_height": null,
            "max_width": null,
            "min_height": null,
            "min_width": null,
            "object_fit": null,
            "object_position": null,
            "order": null,
            "overflow": null,
            "overflow_x": null,
            "overflow_y": null,
            "padding": null,
            "right": null,
            "top": null,
            "visibility": null,
            "width": null
          }
        },
        "04b786c22495489aa07a800496f6ea5a": {
          "model_module": "@jupyter-widgets/controls",
          "model_name": "ButtonStyleModel",
          "model_module_version": "1.5.0",
          "state": {
            "_model_module": "@jupyter-widgets/controls",
            "_model_module_version": "1.5.0",
            "_model_name": "ButtonStyleModel",
            "_view_count": null,
            "_view_module": "@jupyter-widgets/base",
            "_view_module_version": "1.2.0",
            "_view_name": "StyleView",
            "button_color": null,
            "font_weight": ""
          }
        },
        "c9ef5770351549eba21978602ab196fd": {
          "model_module": "@jupyter-widgets/controls",
          "model_name": "ButtonModel",
          "model_module_version": "1.5.0",
          "state": {
            "_dom_classes": [],
            "_model_module": "@jupyter-widgets/controls",
            "_model_module_version": "1.5.0",
            "_model_name": "ButtonModel",
            "_view_count": null,
            "_view_module": "@jupyter-widgets/controls",
            "_view_module_version": "1.5.0",
            "_view_name": "ButtonView",
            "button_style": "",
            "description": "Predict Future Risk",
            "disabled": false,
            "icon": "",
            "layout": "IPY_MODEL_165690d3ff254e45b060c435c9693d1f",
            "style": "IPY_MODEL_f505bb8bc6de4da8a0ee8ca065012af0",
            "tooltip": ""
          }
        },
        "165690d3ff254e45b060c435c9693d1f": {
          "model_module": "@jupyter-widgets/base",
          "model_name": "LayoutModel",
          "model_module_version": "1.2.0",
          "state": {
            "_model_module": "@jupyter-widgets/base",
            "_model_module_version": "1.2.0",
            "_model_name": "LayoutModel",
            "_view_count": null,
            "_view_module": "@jupyter-widgets/base",
            "_view_module_version": "1.2.0",
            "_view_name": "LayoutView",
            "align_content": null,
            "align_items": null,
            "align_self": null,
            "border": null,
            "bottom": null,
            "display": null,
            "flex": null,
            "flex_flow": null,
            "grid_area": null,
            "grid_auto_columns": null,
            "grid_auto_flow": null,
            "grid_auto_rows": null,
            "grid_column": null,
            "grid_gap": null,
            "grid_row": null,
            "grid_template_areas": null,
            "grid_template_columns": null,
            "grid_template_rows": null,
            "height": null,
            "justify_content": null,
            "justify_items": null,
            "left": null,
            "margin": null,
            "max_height": null,
            "max_width": null,
            "min_height": null,
            "min_width": null,
            "object_fit": null,
            "object_position": null,
            "order": null,
            "overflow": null,
            "overflow_x": null,
            "overflow_y": null,
            "padding": null,
            "right": null,
            "top": null,
            "visibility": null,
            "width": null
          }
        },
        "f505bb8bc6de4da8a0ee8ca065012af0": {
          "model_module": "@jupyter-widgets/controls",
          "model_name": "ButtonStyleModel",
          "model_module_version": "1.5.0",
          "state": {
            "_model_module": "@jupyter-widgets/controls",
            "_model_module_version": "1.5.0",
            "_model_name": "ButtonStyleModel",
            "_view_count": null,
            "_view_module": "@jupyter-widgets/base",
            "_view_module_version": "1.2.0",
            "_view_name": "StyleView",
            "button_color": null,
            "font_weight": ""
          }
        },
        "f011a0bce6fa413b801bb50e93851e43": {
          "model_module": "@jupyter-widgets/output",
          "model_name": "OutputModel",
          "model_module_version": "1.0.0",
          "state": {
            "_dom_classes": [],
            "_model_module": "@jupyter-widgets/output",
            "_model_module_version": "1.0.0",
            "_model_name": "OutputModel",
            "_view_count": null,
            "_view_module": "@jupyter-widgets/output",
            "_view_module_version": "1.0.0",
            "_view_name": "OutputView",
            "layout": "IPY_MODEL_a3d1059ad8c24743b5f399546642c5a9",
            "msg_id": "",
            "outputs": [
              {
                "output_type": "stream",
                "name": "stdout",
                "text": [
                  "Future Risk Prediction:\n",
                  "Risk of diabetes in 5 years: 21.00%\n"
                ]
              }
            ]
          }
        },
        "a3d1059ad8c24743b5f399546642c5a9": {
          "model_module": "@jupyter-widgets/base",
          "model_name": "LayoutModel",
          "model_module_version": "1.2.0",
          "state": {
            "_model_module": "@jupyter-widgets/base",
            "_model_module_version": "1.2.0",
            "_model_name": "LayoutModel",
            "_view_count": null,
            "_view_module": "@jupyter-widgets/base",
            "_view_module_version": "1.2.0",
            "_view_name": "LayoutView",
            "align_content": null,
            "align_items": null,
            "align_self": null,
            "border": null,
            "bottom": null,
            "display": null,
            "flex": null,
            "flex_flow": null,
            "grid_area": null,
            "grid_auto_columns": null,
            "grid_auto_flow": null,
            "grid_auto_rows": null,
            "grid_column": null,
            "grid_gap": null,
            "grid_row": null,
            "grid_template_areas": null,
            "grid_template_columns": null,
            "grid_template_rows": null,
            "height": null,
            "justify_content": null,
            "justify_items": null,
            "left": null,
            "margin": null,
            "max_height": null,
            "max_width": null,
            "min_height": null,
            "min_width": null,
            "object_fit": null,
            "object_position": null,
            "order": null,
            "overflow": null,
            "overflow_x": null,
            "overflow_y": null,
            "padding": null,
            "right": null,
            "top": null,
            "visibility": null,
            "width": null
          }
        }
      }
    }
  },
  "cells": [
    {
      "cell_type": "code",
      "execution_count": 1,
      "metadata": {
        "colab": {
          "base_uri": "https://localhost:8080/"
        },
        "id": "ngH3fKpGCH7K",
        "outputId": "e7915415-bbf1-45b7-826f-50a48748279a"
      },
      "outputs": [
        {
          "output_type": "stream",
          "name": "stdout",
          "text": [
            "Dataset loaded successfully!\n"
          ]
        }
      ],
      "source": [
        "import pandas as pd\n",
        "try:\n",
        "    data = pd.read_csv('/content/diabetes.csv')\n",
        "    print(\"Dataset loaded successfully!\")\n",
        "except FileNotFoundError:\n",
        "    print(\"Error: diabetes.csv not found. Make sure you uploaded the file.\")\n",
        "except Exception as e:\n",
        "    print(f\"An error occurred during dataset loading: {e}\")"
      ]
    },
    {
      "cell_type": "code",
      "source": [
        "print(data.head())"
      ],
      "metadata": {
        "colab": {
          "base_uri": "https://localhost:8080/"
        },
        "id": "ext4QYznCeV_",
        "outputId": "9cb8dffd-ea2a-4978-ea52-9215a54622e9"
      },
      "execution_count": 2,
      "outputs": [
        {
          "output_type": "stream",
          "name": "stdout",
          "text": [
            "   Glucose  BloodPressure  SkinThickness  Insulin   BMI  \\\n",
            "0      148             72             35        0  33.6   \n",
            "1       85             66             29        0  26.6   \n",
            "2      183             64              0        0  23.3   \n",
            "3       89             66             23       94  28.1   \n",
            "4      137             40             35      168  43.1   \n",
            "\n",
            "   DiabetesPedigreeFunction  Age  Outcome  \n",
            "0                     0.627   50        1  \n",
            "1                     0.351   31        0  \n",
            "2                     0.672   32        1  \n",
            "3                     0.167   21        0  \n",
            "4                     2.288   33        1  \n"
          ]
        }
      ]
    },
    {
      "cell_type": "code",
      "source": [
        "import numpy as np\n",
        "try:\n",
        "    zero_cols = ['Glucose', 'BloodPressure', 'SkinThickness', 'Insulin', 'BMI']\n",
        "    data[zero_cols] = data[zero_cols].replace(0, np.nan)\n",
        "    for col in zero_cols:\n",
        "        data[col] = data[col].fillna(data[col].median())\n",
        "    print(\"Preprocessing completed successfully!\")\n",
        "except Exception as e:\n",
        "    print(f\"An error occurred during preprocessing: {e}\")"
      ],
      "metadata": {
        "colab": {
          "base_uri": "https://localhost:8080/"
        },
        "id": "QOl2Bme6ChVT",
        "outputId": "3032a77f-3102-40f1-a90b-f18a8dc9cac9"
      },
      "execution_count": 3,
      "outputs": [
        {
          "output_type": "stream",
          "name": "stdout",
          "text": [
            "Preprocessing completed successfully!\n"
          ]
        }
      ]
    },
    {
      "cell_type": "code",
      "source": [
        "# Feature Engineering for Future Risk Prediction\n",
        "data['AgeSquared'] = data['Age'] ** 2\n",
        "data['GlucoseAgeInteraction'] = data['Glucose'] * data['Age']\n",
        "data['BMIChange'] = data['BMI'] - 25\n",
        "data['YearsToPredict'] = 5\n",
        "data['AgePlusYears'] = data['Age'] + data['YearsToPredict']\n"
      ],
      "metadata": {
        "id": "ke_YafV6Cj9t"
      },
      "execution_count": 4,
      "outputs": []
    },
    {
      "cell_type": "code",
      "source": [
        "# Future Outcome Simulation\n",
        "import numpy as np\n",
        "non_diabetics = data[data['Outcome'] == 0].copy()\n",
        "np.random.seed(42)\n",
        "non_diabetics['FutureOutcome'] = np.random.choice([0, 1], size=len(non_diabetics), p=[0.7, 0.3])"
      ],
      "metadata": {
        "id": "crfDYUAeCnbh"
      },
      "execution_count": 5,
      "outputs": []
    },
    {
      "cell_type": "code",
      "source": [
        "from sklearn.model_selection import train_test_split\n",
        "from sklearn.preprocessing import StandardScaler\n",
        "X = data.drop('Outcome', axis=1)\n",
        "y = data['Outcome']\n",
        "X_train, X_test, y_train, y_test = train_test_split(X, y, test_size=0.2, random_state=42)\n",
        "print(f\"X_train shape: {X_train.shape}, X_test shape: {X_test.shape}\")\n",
        "scaler = StandardScaler()\n",
        "X_train_scaled = scaler.fit_transform(X_train)\n",
        "X_test_scaled = scaler.transform(X_test)\n",
        "print(data.columns)"
      ],
      "metadata": {
        "colab": {
          "base_uri": "https://localhost:8080/"
        },
        "id": "6jWF2djCC1sg",
        "outputId": "968189ae-b8d4-4c5e-887d-8bfd34347462"
      },
      "execution_count": 7,
      "outputs": [
        {
          "output_type": "stream",
          "name": "stdout",
          "text": [
            "X_train shape: (614, 12), X_test shape: (154, 12)\n",
            "Index(['Glucose', 'BloodPressure', 'SkinThickness', 'Insulin', 'BMI',\n",
            "       'DiabetesPedigreeFunction', 'Age', 'Outcome', 'AgeSquared',\n",
            "       'GlucoseAgeInteraction', 'BMIChange', 'YearsToPredict', 'AgePlusYears'],\n",
            "      dtype='object')\n"
          ]
        }
      ]
    },
    {
      "cell_type": "code",
      "source": [
        "from sklearn.model_selection import train_test_split\n",
        "X_future = non_diabetics.drop(['Outcome', 'FutureOutcome'], axis=1)\n",
        "y_future = non_diabetics['FutureOutcome']\n",
        "X_train_future, X_test_future, y_train_future, y_test_future = train_test_split(X_future, y_future, test_size=0.2, random_state=42)\n",
        "print(f\"X_train_future shape: {X_train_future.shape}, X_test_future shape: {X_test_future.shape}\")\n",
        "print(non_diabetics.columns)"
      ],
      "metadata": {
        "colab": {
          "base_uri": "https://localhost:8080/"
        },
        "id": "cmMYUrraC7-s",
        "outputId": "7dc7a40c-429d-4315-d785-9a9741e84404"
      },
      "execution_count": 9,
      "outputs": [
        {
          "output_type": "stream",
          "name": "stdout",
          "text": [
            "X_train_future shape: (400, 12), X_test_future shape: (100, 12)\n",
            "Index(['Glucose', 'BloodPressure', 'SkinThickness', 'Insulin', 'BMI',\n",
            "       'DiabetesPedigreeFunction', 'Age', 'Outcome', 'AgeSquared',\n",
            "       'GlucoseAgeInteraction', 'BMIChange', 'YearsToPredict', 'AgePlusYears',\n",
            "       'FutureOutcome'],\n",
            "      dtype='object')\n"
          ]
        }
      ]
    },
    {
      "cell_type": "code",
      "source": [
        "#Feature Scaling for Future Risk Model\n",
        "from sklearn.preprocessing import StandardScaler\n",
        "scaler_future = StandardScaler()\n",
        "X_train_future_scaled = scaler_future.fit_transform(X_train_future)\n",
        "X_test_future_scaled = scaler_future.transform(X_test_future)\n"
      ],
      "metadata": {
        "id": "knmcqR4ZC_gs"
      },
      "execution_count": 10,
      "outputs": []
    },
    {
      "cell_type": "code",
      "source": [
        "#6. Train Standard Diabetes Prediction Model\n",
        "from sklearn.model_selection import train_test_split\n",
        "from sklearn.preprocessing import StandardScaler\n",
        "from sklearn.linear_model import LogisticRegression\n",
        "from sklearn.tree import DecisionTreeClassifier\n",
        "from sklearn.ensemble import RandomForestClassifier\n",
        "from sklearn.svm import SVC\n",
        "from sklearn.metrics import accuracy_score\n",
        "import pickle\n",
        "\n",
        "try:\n",
        "    X = data.drop('Outcome', axis=1)\n",
        "    y = data['Outcome']\n",
        "    X_train, X_test, y_train, y_test = train_test_split(X, y, test_size=0.2, random_state=42)\n",
        "\n",
        "    print(f\"X_train shape: {X_train.shape}, X_test shape: {X_test.shape}\")\n",
        "    scaler = StandardScaler()\n",
        "    X_train_scaled = scaler.fit_transform(X_train)\n",
        "    X_test_scaled = scaler.transform(X_test)\n",
        "\n",
        "    models = {\n",
        "        'Logistic Regression': LogisticRegression(random_state=42, max_iter=1000),\n",
        "        'Decision Tree': DecisionTreeClassifier(random_state=42),\n",
        "        'Random Forest': RandomForestClassifier(random_state=42),\n",
        "        'SVM': SVC(random_state=42)\n",
        "    }\n",
        "\n",
        "    model_accuracies = {}\n",
        "    best_model = None\n",
        "    best_accuracy = 0\n",
        "\n",
        "    for name, model in models.items():\n",
        "        model.fit(X_train_scaled, y_train)\n",
        "        y_pred = model.predict(X_test_scaled)\n",
        "        accuracy = accuracy_score(y_test, y_pred)\n",
        "        model_accuracies[name] = accuracy\n",
        "        print(f'{name} Accuracy: {accuracy:.4f}')\n",
        "\n",
        "        if accuracy > best_accuracy:\n",
        "            best_accuracy = accuracy\n",
        "            best_model = model\n",
        "\n",
        "    print(f\"Best model: {best_model.__class__.__name__} with accuracy: {best_accuracy:.4f}\")\n",
        "    diabetes_model = best_model\n",
        "    with open(\"diabetes_model.pkl\", \"wb\") as f:\n",
        "        pickle.dump(diabetes_model, f)\n",
        "    with open(\"scaler.pkl\", \"wb\") as f:\n",
        "        pickle.dump(scaler, f)\n",
        "\n",
        "except Exception as e:\n",
        "    print(f\"Error training and saving diabetes model: {e}\")"
      ],
      "metadata": {
        "colab": {
          "base_uri": "https://localhost:8080/"
        },
        "id": "jEFIamyaDCW7",
        "outputId": "4f7eebd9-c1f0-48ea-f762-949c62f3f854"
      },
      "execution_count": 11,
      "outputs": [
        {
          "output_type": "stream",
          "name": "stdout",
          "text": [
            "X_train shape: (614, 12), X_test shape: (154, 12)\n",
            "Logistic Regression Accuracy: 0.7727\n",
            "Decision Tree Accuracy: 0.6688\n",
            "Random Forest Accuracy: 0.7662\n",
            "SVM Accuracy: 0.7338\n",
            "Best model: LogisticRegression with accuracy: 0.7727\n"
          ]
        }
      ]
    },
    {
      "cell_type": "code",
      "source": [
        "# Train and Compare Future Risk Prediction Models\n",
        "from sklearn.linear_model import LogisticRegression\n",
        "from sklearn.tree import DecisionTreeClassifier\n",
        "from sklearn.ensemble import RandomForestClassifier\n",
        "from sklearn.svm import SVC\n",
        "from sklearn.metrics import accuracy_score\n",
        "\n",
        "\n",
        "models = {\n",
        "    'Logistic Regression': LogisticRegression(random_state=42, max_iter=1000),\n",
        "    'Decision Tree': DecisionTreeClassifier(random_state=42),\n",
        "    'Random Forest': RandomForestClassifier(random_state=42),\n",
        "    'SVM': SVC(random_state=42)\n",
        "}\n",
        "\n",
        "model_accuracies = {}\n",
        "best_model = None\n",
        "best_accuracy = 0\n",
        "\n",
        "for name, model in models.items():\n",
        "    model.fit(X_train_future_scaled, y_train_future)\n",
        "    y_pred_future = model.predict(X_test_future_scaled)\n",
        "    accuracy = accuracy_score(y_test_future, y_pred_future)\n",
        "    model_accuracies[name] = accuracy\n",
        "    print(f'{name} Accuracy: {accuracy:.4f}')\n",
        "\n",
        "    if accuracy > best_accuracy:\n",
        "        best_accuracy = accuracy\n",
        "        best_model = model\n",
        "\n",
        "print(f\"Best model: {best_model.__class__.__name__} with accuracy: {best_accuracy:.4f}\")"
      ],
      "metadata": {
        "colab": {
          "base_uri": "https://localhost:8080/"
        },
        "id": "qK8sZ2HqDGOx",
        "outputId": "44ff11bf-e671-4a74-d8f7-6a9516c6f888"
      },
      "execution_count": 12,
      "outputs": [
        {
          "output_type": "stream",
          "name": "stdout",
          "text": [
            "Logistic Regression Accuracy: 0.7300\n",
            "Decision Tree Accuracy: 0.6000\n",
            "Random Forest Accuracy: 0.7400\n",
            "SVM Accuracy: 0.7200\n",
            "Best model: RandomForestClassifier with accuracy: 0.7400\n"
          ]
        }
      ]
    },
    {
      "cell_type": "code",
      "source": [
        "import ipywidgets as widgets\n",
        "from IPython.display import display, clear_output\n",
        "import pandas as pd\n",
        "# UI using ipywidgets\n",
        "glucose_input = widgets.FloatText(description=\"Glucose\")\n",
        "blood_pressure_input = widgets.FloatText(description=\"Blood Pressure\")\n",
        "skin_thickness_input = widgets.FloatText(description=\"Skin Thickness\")\n",
        "insulin_input = widgets.FloatText(description=\"Insulin\")\n",
        "bmi_input = widgets.FloatText(description=\"BMI\")\n",
        "diabetes_pedigree_input = widgets.FloatText(description=\"Diabetes Pedigree\")\n",
        "age_input = widgets.IntText(description=\"Age\")\n",
        "\n",
        "predict_button = widgets.Button(description=\"Predict Diabetes\")\n",
        "future_risk_button = widgets.Button(description=\"Predict Future Risk\")\n",
        "output_area = widgets.Output()\n",
        "\n",
        "def predict_diabetes(button):\n",
        "    with output_area:\n",
        "        clear_output()\n",
        "        print(\"Diabetes Prediction:\")\n",
        "        try:\n",
        "            age = age_input.value\n",
        "            years_to_predict = 5\n",
        "            age_squared = age ** 2\n",
        "            glucose_age_interaction = glucose_input.value * age\n",
        "            bmi_change = bmi_input.value - 25\n",
        "            age_plus_years = age + years_to_predict\n",
        "\n",
        "            input_data = pd.DataFrame(\n",
        "                [[glucose_input.value, blood_pressure_input.value, skin_thickness_input.value, insulin_input.value,\n",
        "                  bmi_input.value, diabetes_pedigree_input.value, age, age_squared, glucose_age_interaction,\n",
        "                  bmi_change, years_to_predict, age_plus_years]],\n",
        "                columns=['Glucose', 'BloodPressure', 'SkinThickness', 'Insulin', 'BMI', 'DiabetesPedigreeFunction',\n",
        "                         'Age', 'AgeSquared', 'GlucoseAgeInteraction', 'BMIChange',\n",
        "                         'YearsToPredict', 'AgePlusYears']\n",
        "            )\n",
        "\n",
        "            input_data_scaled = scaler.transform(input_data)\n",
        "            prediction = diabetes_model.predict(input_data_scaled)[0]\n",
        "            if prediction == 1:\n",
        "                print(\"The person is Diabetic\")\n",
        "                future_risk_button.disabled = True\n",
        "            else:\n",
        "                print(\"The person is Diabetic Free\")\n",
        "                future_risk_button.disabled = False\n",
        "        except Exception as e:\n",
        "            print(f\"Error: {e}\")\n",
        "\n",
        "def predict_future_risk(button):\n",
        "    with output_area:\n",
        "        clear_output()\n",
        "        print(\"Future Risk Prediction:\")\n",
        "        try:\n",
        "            age = age_input.value\n",
        "            years_to_predict = 5\n",
        "            age_squared = age ** 2\n",
        "            glucose_age_interaction = glucose_input.value * age\n",
        "            bmi_change = bmi_input.value - 25\n",
        "            age_plus_years = age + years_to_predict\n",
        "\n",
        "            input_data = pd.DataFrame(\n",
        "                [[glucose_input.value, blood_pressure_input.value, skin_thickness_input.value, insulin_input.value,\n",
        "                  bmi_input.value, diabetes_pedigree_input.value, age, age_squared, glucose_age_interaction,\n",
        "                  bmi_change, years_to_predict, age_plus_years]],\n",
        "                columns=['Glucose', 'BloodPressure', 'SkinThickness', 'Insulin', 'BMI', 'DiabetesPedigreeFunction',\n",
        "                         'Age', 'AgeSquared', 'GlucoseAgeInteraction', 'BMIChange',\n",
        "                         'YearsToPredict', 'AgePlusYears']\n",
        "            )\n",
        "\n",
        "            input_scaled = scaler_future.transform(input_data)\n",
        "            risk_score = best_model.predict_proba(input_scaled)[0][1]\n",
        "            print(f\"Risk of diabetes in 5 years: {risk_score * 100:.2f}%\")\n",
        "        except Exception as e:\n",
        "            print(f\"Error: {e}\")\n",
        "\n",
        "predict_button.on_click(predict_diabetes)\n",
        "future_risk_button.on_click(predict_future_risk)\n",
        "\n",
        "display(glucose_input, blood_pressure_input, skin_thickness_input, insulin_input,\n",
        "        bmi_input, diabetes_pedigree_input, age_input,\n",
        "        predict_button, future_risk_button, output_area)\n"
      ],
      "metadata": {
        "colab": {
          "base_uri": "https://localhost:8080/",
          "height": 328,
          "referenced_widgets": [
            "65321f92059940a880349097314b1b6e",
            "df1f07f0117f4765adab021abd395c93",
            "4653c0c58ab64eff855236c962363621",
            "a7046b9c96554775be22924f8136e9df",
            "201a8f6138d2470eba3db5168fe654fe",
            "a3f1d0d889bf4f98899c4f9f95860a63",
            "836f1688038840e78a2976753d064248",
            "24962b9443b74535989cf285a4a3204c",
            "1a46304846ac445ca0e3f4bb67753512",
            "58f93472385a436c919c4c25b802507f",
            "6bb9f05ed95349f39f9fd29a1a30a379",
            "730fc39bf0cf471caf73acf9eee09f09",
            "302f0af4c2f34887aae517971d6c9546",
            "78f0a5a5d6b5427abaf19193f9bb00d9",
            "1e24f0df5280490d85a3928c96ac4bdc",
            "d21232c85fa4453490dc39fe1f9dd4a8",
            "3af3e13d0f8e47e9b8b8b1954d8fb23c",
            "730ebf7809014205a527ca99a0ada2df",
            "53d5c9d2786b4d38a806bca309d27945",
            "4769ff0ebadb4533b32e650472fba74f",
            "e0be8dd78a6a4bfca86c89f90aa9899b",
            "bd0c23017d0e4b50bcf35c7d7901646f",
            "1089894781c34db98b637ef3687dd918",
            "04b786c22495489aa07a800496f6ea5a",
            "c9ef5770351549eba21978602ab196fd",
            "165690d3ff254e45b060c435c9693d1f",
            "f505bb8bc6de4da8a0ee8ca065012af0",
            "f011a0bce6fa413b801bb50e93851e43",
            "a3d1059ad8c24743b5f399546642c5a9"
          ]
        },
        "id": "ff-d36rpDWZ0",
        "outputId": "db45be34-48c0-4140-c680-e5c26d77a818"
      },
      "execution_count": 13,
      "outputs": [
        {
          "output_type": "display_data",
          "data": {
            "text/plain": [
              "FloatText(value=0.0, description='Glucose')"
            ],
            "application/vnd.jupyter.widget-view+json": {
              "version_major": 2,
              "version_minor": 0,
              "model_id": "65321f92059940a880349097314b1b6e"
            }
          },
          "metadata": {}
        },
        {
          "output_type": "display_data",
          "data": {
            "text/plain": [
              "FloatText(value=0.0, description='Blood Pressure')"
            ],
            "application/vnd.jupyter.widget-view+json": {
              "version_major": 2,
              "version_minor": 0,
              "model_id": "a7046b9c96554775be22924f8136e9df"
            }
          },
          "metadata": {}
        },
        {
          "output_type": "display_data",
          "data": {
            "text/plain": [
              "FloatText(value=0.0, description='Skin Thickness')"
            ],
            "application/vnd.jupyter.widget-view+json": {
              "version_major": 2,
              "version_minor": 0,
              "model_id": "836f1688038840e78a2976753d064248"
            }
          },
          "metadata": {}
        },
        {
          "output_type": "display_data",
          "data": {
            "text/plain": [
              "FloatText(value=0.0, description='Insulin')"
            ],
            "application/vnd.jupyter.widget-view+json": {
              "version_major": 2,
              "version_minor": 0,
              "model_id": "58f93472385a436c919c4c25b802507f"
            }
          },
          "metadata": {}
        },
        {
          "output_type": "display_data",
          "data": {
            "text/plain": [
              "FloatText(value=0.0, description='BMI')"
            ],
            "application/vnd.jupyter.widget-view+json": {
              "version_major": 2,
              "version_minor": 0,
              "model_id": "302f0af4c2f34887aae517971d6c9546"
            }
          },
          "metadata": {}
        },
        {
          "output_type": "display_data",
          "data": {
            "text/plain": [
              "FloatText(value=0.0, description='Diabetes Pedigree')"
            ],
            "application/vnd.jupyter.widget-view+json": {
              "version_major": 2,
              "version_minor": 0,
              "model_id": "d21232c85fa4453490dc39fe1f9dd4a8"
            }
          },
          "metadata": {}
        },
        {
          "output_type": "display_data",
          "data": {
            "text/plain": [
              "IntText(value=0, description='Age')"
            ],
            "application/vnd.jupyter.widget-view+json": {
              "version_major": 2,
              "version_minor": 0,
              "model_id": "53d5c9d2786b4d38a806bca309d27945"
            }
          },
          "metadata": {}
        },
        {
          "output_type": "display_data",
          "data": {
            "text/plain": [
              "Button(description='Predict Diabetes', style=ButtonStyle())"
            ],
            "application/vnd.jupyter.widget-view+json": {
              "version_major": 2,
              "version_minor": 0,
              "model_id": "bd0c23017d0e4b50bcf35c7d7901646f"
            }
          },
          "metadata": {}
        },
        {
          "output_type": "display_data",
          "data": {
            "text/plain": [
              "Button(description='Predict Future Risk', style=ButtonStyle())"
            ],
            "application/vnd.jupyter.widget-view+json": {
              "version_major": 2,
              "version_minor": 0,
              "model_id": "c9ef5770351549eba21978602ab196fd"
            }
          },
          "metadata": {}
        },
        {
          "output_type": "display_data",
          "data": {
            "text/plain": [
              "Output()"
            ],
            "application/vnd.jupyter.widget-view+json": {
              "version_major": 2,
              "version_minor": 0,
              "model_id": "f011a0bce6fa413b801bb50e93851e43"
            }
          },
          "metadata": {}
        }
      ]
    }
  ]
}